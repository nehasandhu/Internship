{
 "cells": [
  {
   "cell_type": "markdown",
   "id": "345da76e",
   "metadata": {},
   "source": [
    "# Q.11) Program to find the factor of given number\n"
   ]
  },
  {
   "cell_type": "code",
   "execution_count": 2,
   "id": "97680d02",
   "metadata": {},
   "outputs": [
    {
     "name": "stdout",
     "output_type": "stream",
     "text": [
      "Enter the number you want to find the factor :25\n",
      "The factorial of the number is :\n",
      "15511210043330985984000000\n"
     ]
    }
   ],
   "source": [
    "import math\n",
    "n= int (input (\"Enter the number you want to find the factor :\"))\n",
    "print (\"The factorial of the number is :\")\n",
    "print(math.factorial(n))"
   ]
  },
  {
   "cell_type": "markdown",
   "id": "a6b09d39",
   "metadata": {},
   "source": [
    "#  Q.12) Program to find whether a number is prime or composite.\n"
   ]
  },
  {
   "cell_type": "code",
   "execution_count": 35,
   "id": "f5bb394e",
   "metadata": {},
   "outputs": [
    {
     "name": "stdout",
     "output_type": "stream",
     "text": [
      "Enter the number to check if the number is prime or composite7\n",
      "Number is prime number\n"
     ]
    }
   ],
   "source": [
    "num = int(input(\"Enter the number to check if the number is prime or composite : \"))\n",
    "count=0;\n",
    "\n",
    "for i in range (1, num+1):\n",
    "     if(num % i == 0 ):\n",
    "       count += 1;\n",
    "        \n",
    "if (count >2):\n",
    "       print(\"The Number is composit number\")\n",
    "else:\n",
    "       print(\"The Number is prime number\")"
   ]
  },
  {
   "cell_type": "markdown",
   "id": "20a0facc",
   "metadata": {},
   "source": [
    "#  Q.13 ) Python program to check whether a given string is palindrome or not"
   ]
  },
  {
   "cell_type": "code",
   "execution_count": 73,
   "id": "8dba1445",
   "metadata": {},
   "outputs": [
    {
     "name": "stdout",
     "output_type": "stream",
     "text": [
      "Enter the string : rom\n",
      "String in reverse order is : mor\n",
      "It is not Palimdrome\n"
     ]
    }
   ],
   "source": [
    "string = input (\"Enter the string : \")\n",
    "str2 =\"\"\n",
    "\n",
    "for i in string:\n",
    "    str2 =i+str2\n",
    "print(\"String in reverse order is :\",str2)\n",
    "        \n",
    "if(string == str2):\n",
    "        print(\"String is Palindrome\")\n",
    "else:\n",
    "        print(\"It is not Palimdrome\")"
   ]
  },
  {
   "cell_type": "markdown",
   "id": "6b25b5b3",
   "metadata": {},
   "source": [
    "# Q.14 ) Python program to get the third side of right-angled triangle from two given sides"
   ]
  },
  {
   "cell_type": "code",
   "execution_count": 79,
   "id": "dab24a5f",
   "metadata": {},
   "outputs": [
    {
     "name": "stdout",
     "output_type": "stream",
     "text": [
      "Enter the first side right angled traingle = 5\n",
      "Enter the second side of right angle traingle = 6\n",
      "Measure of the third side = 61\n"
     ]
    }
   ],
   "source": [
    "side1= int(input(\"Enter the first side right angled traingle = \"))\n",
    "side2 = int(input (\"Enter the second side of right angle traingle = \"))\n",
    "side3=0;\n",
    "\n",
    "side3= (side1*side1) + (side2*side2)\n",
    "print(\"Measure of the third side =\",side3)\n"
   ]
  },
  {
   "cell_type": "markdown",
   "id": "eca57dec",
   "metadata": {},
   "source": [
    "# Q.15) python program to print the frequency of each of the characters present in a given string"
   ]
  },
  {
   "cell_type": "code",
   "execution_count": 102,
   "id": "fc79c73d",
   "metadata": {},
   "outputs": [
    {
     "name": "stdout",
     "output_type": "stream",
     "text": [
      "Enter the stringnancy\n",
      "{'n': 2, 'a': 1, 'c': 1, 'y': 1}\n"
     ]
    }
   ],
   "source": [
    "string = input(\"Enter the string\")\n",
    "d=dict()\n",
    "for i in string:\n",
    "    d[i] = d.get(i, 0) + 1\n",
    "       \n",
    "print(d)"
   ]
  },
  {
   "cell_type": "code",
   "execution_count": null,
   "id": "d309cc00",
   "metadata": {},
   "outputs": [],
   "source": []
  },
  {
   "cell_type": "code",
   "execution_count": null,
   "id": "f54990c0",
   "metadata": {},
   "outputs": [],
   "source": []
  },
  {
   "cell_type": "code",
   "execution_count": null,
   "id": "2083e8df",
   "metadata": {},
   "outputs": [],
   "source": []
  }
 ],
 "metadata": {
  "kernelspec": {
   "display_name": "Python 3",
   "language": "python",
   "name": "python3"
  },
  "language_info": {
   "codemirror_mode": {
    "name": "ipython",
    "version": 3
   },
   "file_extension": ".py",
   "mimetype": "text/x-python",
   "name": "python",
   "nbconvert_exporter": "python",
   "pygments_lexer": "ipython3",
   "version": "3.8.8"
  }
 },
 "nbformat": 4,
 "nbformat_minor": 5
}
